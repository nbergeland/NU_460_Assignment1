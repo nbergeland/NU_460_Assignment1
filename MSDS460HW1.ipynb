{
 "cells": [
  {
   "cell_type": "code",
   "execution_count": 1,
   "metadata": {},
   "outputs": [],
   "source": [
    "#setup model\n",
    "from pulp import LpVariable, LpProblem, LpMaximize, LpMinimize, LpStatus, value"
   ]
  },
  {
   "cell_type": "code",
   "execution_count": 2,
   "metadata": {},
   "outputs": [],
   "source": [
    "prob = LpProblem(\"problem\", LpMinimize)"
   ]
  },
  {
   "cell_type": "code",
   "execution_count": 3,
   "metadata": {},
   "outputs": [],
   "source": [
    "#define variables\n",
    "U = LpVariable(\"U\", 250000, None)\n",
    "E = LpVariable(\"E\", 257096, None)\n",
    "P = LpVariable(\"P\", 160328, None)\n",
    "H = LpVariable(\"H\", 1951296, None)\n",
    "J = LpVariable(\"J\", 29655991, None)\n",
    "UE = LpVariable(\"UE\", 0, None)\n",
    "UP = LpVariable(\"UP\", 0, None)\n",
    "UH = LpVariable(\"UH\", 0, None)\n",
    "UJ = LpVariable(\"UJ\", 0, None)\n",
    "EU = LpVariable(\"EU\", 0, None)\n",
    "EP = LpVariable(\"EP\", 0, None)\n",
    "EH = LpVariable(\"EH\", 0, None)\n",
    "EJ = LpVariable(\"EJ\", 0, None)\n",
    "PU = LpVariable(\"PU\", 0, None)\n",
    "PE = LpVariable(\"PE\", 0, None)\n",
    "PH = LpVariable(\"PH\", 0, None)\n",
    "PJ = LpVariable(\"PJ\", 0, None)\n",
    "HU = LpVariable(\"HU\", 0, None)\n",
    "HE = LpVariable(\"HE\", 0, None)\n",
    "HP = LpVariable(\"HP\", 0, None)\n",
    "HJ = LpVariable(\"HJ\", 0, None)\n",
    "JU = LpVariable(\"JU\", 0, None)\n",
    "JE = LpVariable(\"JE\", 0, None)\n",
    "JP = LpVariable(\"JP\", 0, None)\n",
    "JH = LpVariable(\"JH\", 0, None)"
   ]
  },
  {
   "cell_type": "code",
   "execution_count": 4,
   "metadata": {},
   "outputs": [],
   "source": [
    "#setup objective function\n",
    "USD_Start = 2000000\n",
    "EUR_Start = 5000000\n",
    "GBP_Start = 1000000\n",
    "HKD_Start = 3000000\n",
    "JPY_Start = 30000000\n",
    "Total_Start_inUSD = 1*USD_Start + 0.9724*EUR_Start + 1.5593*GBP_Start + 0.12812*HKD_Start + 0.00843*JPY_Start"
   ]
  },
  {
   "cell_type": "code",
   "execution_count": 5,
   "metadata": {},
   "outputs": [],
   "source": [
    "#create variables\n",
    "USD_Purchased = 1*U + 0.9724*EU + 1.5593*PU + 0.12812*HU + 0.00843*JU\n",
    "EUR_Purchased = 1.01864*UE + 1*E + 1.5881*PE + 0.1304*HE + 0.00856*JE\n",
    "GBP_Purchased = 0.6409*UP + 0.6295*EP + 1*P + 0.0821*HP + 0.0054*JP\n",
    "HKD_Purchased = 7.7985*UH + 7.6552*EH + 12.154*PH + 1*H + 0.0658*JH\n",
    "JPY_Purchased = 118.55*UJ + 116.41*EJ + 184.97*PJ + 15.1005*HJ + 1*J"
   ]
  },
  {
   "cell_type": "code",
   "execution_count": 6,
   "metadata": {},
   "outputs": [],
   "source": [
    "USD_Sold = U + UE + UP + UH + UJ\n",
    "EUR_Sold = EU + E + EP + EH + EJ\n",
    "GBP_Sold = PU + PE + P + PH + PJ\n",
    "HKD_Sold = HU + HE + HP + H + HJ\n",
    "JPY_Sold = JU + JE + JP + JH + J"
   ]
  },
  {
   "cell_type": "code",
   "execution_count": 7,
   "metadata": {},
   "outputs": [],
   "source": [
    "prob += Total_Start_inUSD - ((USD_Start + USD_Purchased - USD_Sold)*1 + \\\n",
    "                             (EUR_Start + EUR_Purchased - EUR_Sold)*0.9724 + \\\n",
    "                             (GBP_Start + GBP_Purchased - GBP_Sold)*1.5593 + \\\n",
    "                             (HKD_Start + HKD_Purchased - HKD_Sold)*0.12812 + \\\n",
    "                             (JPY_Start + JPY_Purchased - JPY_Sold)*0.00843)"
   ]
  },
  {
   "cell_type": "code",
   "execution_count": 8,
   "metadata": {},
   "outputs": [],
   "source": [
    "#Constraints for EUR and JPY currencies:\n",
    "prob += EUR_Start + EUR_Purchased - EUR_Sold >= 8000000\n",
    "prob += JPY_Start + JPY_Purchased - JPY_Sold >= 54000000\n",
    "\n",
    "#Constraints for USD, GDP, and HKD currencies (all represented in USD):\n",
    "prob += USD_Start + USD_Purchased - USD_Sold >= 250000\n",
    "prob += (GBP_Start + GBP_Purchased - GBP_Sold)*1.5593 >= 250000\n",
    "prob += (HKD_Start + HKD_Purchased - HKD_Sold)*0.12812 >= 250000"
   ]
  },
  {
   "cell_type": "code",
   "execution_count": 9,
   "metadata": {},
   "outputs": [
    {
     "name": "stdout",
     "output_type": "stream",
     "text": [
      "Question 1\n",
      "status=Optimal\n",
      "E=257096.0\n",
      "EH=0.0\n",
      "EJ=0.0\n",
      "EP=0.0\n",
      "EU=0.0\n",
      "H=1951296.0\n",
      "HE=0.0\n",
      "HJ=0.0\n",
      "HP=0.0\n",
      "HU=9689169.8\n",
      "J=29655991.0\n",
      "JE=0.0\n",
      "JH=131314060.0\n",
      "JP=0.0\n",
      "JU=0.0\n",
      "P=160328.0\n",
      "PE=0.0\n",
      "PH=0.0\n",
      "PJ=839671.65\n",
      "PU=0.0\n",
      "U=250000.0\n",
      "UE=2945103.3\n",
      "UH=0.0\n",
      "UJ=0.0\n",
      "UP=0.0\n",
      "Minimal transaction cost in USD = 27866.84\n",
      "\n"
     ]
    }
   ],
   "source": [
    "status = prob.solve()\n",
    "\n",
    "print(f\"Question 1\")\n",
    "print(f\"status={LpStatus[status]}\")\n",
    "\n",
    "for variable in prob.variables():\n",
    "  print(f\"{variable.name}={variable.varValue}\")\n",
    "\n",
    "print(f\"Minimal transaction cost in USD = {round(value(prob.objective), 2)}\")\n",
    "print(f\"\")"
   ]
  },
  {
   "cell_type": "code",
   "execution_count": 11,
   "metadata": {},
   "outputs": [
    {
     "name": "stdout",
     "output_type": "stream",
     "text": [
      "Minimal transaction cost in USD = 27866.84\n"
     ]
    }
   ],
   "source": [
    "# Q 3\n",
    "print(f\"Minimal transaction cost in USD = {round(value(prob.objective), 2)}\")"
   ]
  },
  {
   "cell_type": "code",
   "execution_count": 12,
   "metadata": {},
   "outputs": [],
   "source": [
    "#Q 4 lower threshold\n",
    "prob2 = LpProblem(\"problem2\", LpMinimize)"
   ]
  },
  {
   "cell_type": "code",
   "execution_count": 13,
   "metadata": {},
   "outputs": [],
   "source": [
    "# Change lower threshold value of each currency to 50K USD:\n",
    "U = LpVariable(\"U\", 50000, None)\n",
    "E = LpVariable(\"E\", 51419, None)\n",
    "P = LpVariable(\"P\", 32066, None)\n",
    "H = LpVariable(\"H\", 390259, None)\n",
    "J = LpVariable(\"J\", 5931198, None)\n",
    "UE = LpVariable(\"UE\", 0, None)\n",
    "UP = LpVariable(\"UP\", 0, None)\n",
    "UH = LpVariable(\"UH\", 0, None)\n",
    "UJ = LpVariable(\"UJ\", 0, None)\n",
    "EU = LpVariable(\"EU\", 0, None)\n",
    "EP = LpVariable(\"EP\", 0, None)\n",
    "EH = LpVariable(\"EH\", 0, None)\n",
    "EJ = LpVariable(\"EJ\", 0, None)\n",
    "PU = LpVariable(\"PU\", 0, None)\n",
    "PE = LpVariable(\"PE\", 0, None)\n",
    "PH = LpVariable(\"PH\", 0, None)\n",
    "PJ = LpVariable(\"PJ\", 0, None)\n",
    "HU = LpVariable(\"HU\", 0, None)\n",
    "HE = LpVariable(\"HE\", 0, None)\n",
    "HP = LpVariable(\"HP\", 0, None)\n",
    "HJ = LpVariable(\"HJ\", 0, None)\n",
    "JU = LpVariable(\"JU\", 0, None)\n",
    "JE = LpVariable(\"JE\", 0, None)\n",
    "JP = LpVariable(\"JP\", 0, None)\n",
    "JH = LpVariable(\"JH\", 0, None)"
   ]
  },
  {
   "cell_type": "code",
   "execution_count": 26,
   "metadata": {},
   "outputs": [],
   "source": [
    "#USD_Start = 2000000\n",
    "EUR_Start = 5000000\n",
    "GBP_Start = 1000000\n",
    "HKD_Start = 3000000\n",
    "JPY_Start = 30000000\n",
    "Total_Start_inUSD = 1*USD_Start + 0.9724*EUR_Start + 1.5593*GBP_Start + 0.12812*HKD_Start + 0.00843*JPY_Start\n",
    "\n",
    "USD_Purchased = 1*U + 0.9724*EU + 1.5593*PU + 0.12812*HU + 0.00843*JU\n",
    "EUR_Purchased = 1.01864*UE + 1*E + 1.5881*PE + 0.1304*HE + 0.00856*JE\n",
    "GBP_Purchased = 0.6409*UP + 0.6295*EP + 1*P + 0.0821*HP + 0.0054*JP\n",
    "HKD_Purchased = 7.7985*UH + 7.6552*EH + 12.154*PH + 1*H + 0.0658*JH\n",
    "JPY_Purchased = 118.55*UJ + 116.41*EJ + 184.97*PJ + 15.1005*HJ + 1*J\n",
    "\n",
    "USD_Sold = U + UE + UP + UH + UJ\n",
    "EUR_Sold = EU + E + EP + EH + EJ\n",
    "GBP_Sold = PU + PE + P + PH + PJ\n",
    "HKD_Sold = HU + HE + HP + H + HJ\n",
    "JPY_Sold = JU + JE + JP + JH + J\n",
    "\n",
    "prob2 += Total_Start_inUSD - ((USD_Start + USD_Purchased - USD_Sold)*1 + \\\n",
    "                             (EUR_Start + EUR_Purchased - EUR_Sold)*0.9724 + \\\n",
    "                             (GBP_Start + GBP_Purchased - GBP_Sold)*1.5593 + \\\n",
    "                             (HKD_Start + HKD_Purchased - HKD_Sold)*0.12812 + \\\n",
    "                             (JPY_Start + JPY_Purchased - JPY_Sold)*0.00843)"
   ]
  },
  {
   "cell_type": "code",
   "execution_count": 27,
   "metadata": {},
   "outputs": [],
   "source": [
    "#Constraints for EUR and JPY currencies remain the same\n",
    "prob2 += EUR_Start + EUR_Purchased - EUR_Sold >= 8000000\n",
    "prob2 += JPY_Start + JPY_Purchased - JPY_Sold >= 54000000\n",
    "\n",
    "#Constraints for USD, GDP, and HKD currencies (all represented in USD) change to become >= 50K:\n",
    "prob2 += USD_Start + USD_Purchased - USD_Sold >= 50000\n",
    "prob2 += (GBP_Start + GBP_Purchased - GBP_Sold)*1.5593 >= 50000\n",
    "prob2 += (HKD_Start + HKD_Purchased - HKD_Sold)*0.12812 >= 50000"
   ]
  },
  {
   "cell_type": "code",
   "execution_count": 28,
   "metadata": {},
   "outputs": [
    {
     "ename": "PulpSolverError",
     "evalue": "Pulp: Error while executing /Users/nicholasbergeland/opt/anaconda3/lib/python3.7/site-packages/pulp/apis/../solverdir/cbc/osx/64/cbc",
     "output_type": "error",
     "traceback": [
      "\u001b[0;31m---------------------------------------------------------------------------\u001b[0m",
      "\u001b[0;31mPulpSolverError\u001b[0m                           Traceback (most recent call last)",
      "\u001b[0;32m<ipython-input-28-53fc1806b96e>\u001b[0m in \u001b[0;36m<module>\u001b[0;34m\u001b[0m\n\u001b[0;32m----> 1\u001b[0;31m \u001b[0mstatus\u001b[0m \u001b[0;34m=\u001b[0m \u001b[0mprob2\u001b[0m\u001b[0;34m.\u001b[0m\u001b[0msolve\u001b[0m\u001b[0;34m(\u001b[0m\u001b[0;34m)\u001b[0m\u001b[0;34m\u001b[0m\u001b[0;34m\u001b[0m\u001b[0m\n\u001b[0m\u001b[1;32m      2\u001b[0m \u001b[0;34m\u001b[0m\u001b[0m\n\u001b[1;32m      3\u001b[0m \u001b[0mprint\u001b[0m\u001b[0;34m(\u001b[0m\u001b[0;34mf\"Question 4\"\u001b[0m\u001b[0;34m)\u001b[0m\u001b[0;34m\u001b[0m\u001b[0;34m\u001b[0m\u001b[0m\n\u001b[1;32m      4\u001b[0m \u001b[0mprint\u001b[0m\u001b[0;34m(\u001b[0m\u001b[0;34mf\"status={LpStatus[status]}\"\u001b[0m\u001b[0;34m)\u001b[0m\u001b[0;34m\u001b[0m\u001b[0;34m\u001b[0m\u001b[0m\n\u001b[1;32m      5\u001b[0m \u001b[0;34m\u001b[0m\u001b[0m\n",
      "\u001b[0;32m~/opt/anaconda3/lib/python3.7/site-packages/pulp/pulp.py\u001b[0m in \u001b[0;36msolve\u001b[0;34m(self, solver, **kwargs)\u001b[0m\n\u001b[1;32m   1735\u001b[0m         \u001b[0;31m#time it\u001b[0m\u001b[0;34m\u001b[0m\u001b[0;34m\u001b[0m\u001b[0;34m\u001b[0m\u001b[0m\n\u001b[1;32m   1736\u001b[0m         \u001b[0mself\u001b[0m\u001b[0;34m.\u001b[0m\u001b[0msolutionTime\u001b[0m \u001b[0;34m=\u001b[0m \u001b[0;34m-\u001b[0m\u001b[0mclock\u001b[0m\u001b[0;34m(\u001b[0m\u001b[0;34m)\u001b[0m\u001b[0;34m\u001b[0m\u001b[0;34m\u001b[0m\u001b[0m\n\u001b[0;32m-> 1737\u001b[0;31m         \u001b[0mstatus\u001b[0m \u001b[0;34m=\u001b[0m \u001b[0msolver\u001b[0m\u001b[0;34m.\u001b[0m\u001b[0mactualSolve\u001b[0m\u001b[0;34m(\u001b[0m\u001b[0mself\u001b[0m\u001b[0;34m,\u001b[0m \u001b[0;34m**\u001b[0m\u001b[0mkwargs\u001b[0m\u001b[0;34m)\u001b[0m\u001b[0;34m\u001b[0m\u001b[0;34m\u001b[0m\u001b[0m\n\u001b[0m\u001b[1;32m   1738\u001b[0m         \u001b[0mself\u001b[0m\u001b[0;34m.\u001b[0m\u001b[0msolutionTime\u001b[0m \u001b[0;34m+=\u001b[0m \u001b[0mclock\u001b[0m\u001b[0;34m(\u001b[0m\u001b[0;34m)\u001b[0m\u001b[0;34m\u001b[0m\u001b[0;34m\u001b[0m\u001b[0m\n\u001b[1;32m   1739\u001b[0m         \u001b[0mself\u001b[0m\u001b[0;34m.\u001b[0m\u001b[0mrestoreObjective\u001b[0m\u001b[0;34m(\u001b[0m\u001b[0mwasNone\u001b[0m\u001b[0;34m,\u001b[0m \u001b[0mdummyVar\u001b[0m\u001b[0;34m)\u001b[0m\u001b[0;34m\u001b[0m\u001b[0;34m\u001b[0m\u001b[0m\n",
      "\u001b[0;32m~/opt/anaconda3/lib/python3.7/site-packages/pulp/apis/coin_api.py\u001b[0m in \u001b[0;36mactualSolve\u001b[0;34m(self, lp, **kwargs)\u001b[0m\n\u001b[1;32m     99\u001b[0m     \u001b[0;32mdef\u001b[0m \u001b[0mactualSolve\u001b[0m\u001b[0;34m(\u001b[0m\u001b[0mself\u001b[0m\u001b[0;34m,\u001b[0m \u001b[0mlp\u001b[0m\u001b[0;34m,\u001b[0m \u001b[0;34m**\u001b[0m\u001b[0mkwargs\u001b[0m\u001b[0;34m)\u001b[0m\u001b[0;34m:\u001b[0m\u001b[0;34m\u001b[0m\u001b[0;34m\u001b[0m\u001b[0m\n\u001b[1;32m    100\u001b[0m         \u001b[0;34m\"\"\"Solve a well formulated lp problem\"\"\"\u001b[0m\u001b[0;34m\u001b[0m\u001b[0;34m\u001b[0m\u001b[0m\n\u001b[0;32m--> 101\u001b[0;31m         \u001b[0;32mreturn\u001b[0m \u001b[0mself\u001b[0m\u001b[0;34m.\u001b[0m\u001b[0msolve_CBC\u001b[0m\u001b[0;34m(\u001b[0m\u001b[0mlp\u001b[0m\u001b[0;34m,\u001b[0m \u001b[0;34m**\u001b[0m\u001b[0mkwargs\u001b[0m\u001b[0;34m)\u001b[0m\u001b[0;34m\u001b[0m\u001b[0;34m\u001b[0m\u001b[0m\n\u001b[0m\u001b[1;32m    102\u001b[0m \u001b[0;34m\u001b[0m\u001b[0m\n\u001b[1;32m    103\u001b[0m     \u001b[0;32mdef\u001b[0m \u001b[0mavailable\u001b[0m\u001b[0;34m(\u001b[0m\u001b[0mself\u001b[0m\u001b[0;34m)\u001b[0m\u001b[0;34m:\u001b[0m\u001b[0;34m\u001b[0m\u001b[0;34m\u001b[0m\u001b[0m\n",
      "\u001b[0;32m~/opt/anaconda3/lib/python3.7/site-packages/pulp/apis/coin_api.py\u001b[0m in \u001b[0;36msolve_CBC\u001b[0;34m(self, lp, use_mps)\u001b[0m\n\u001b[1;32m    157\u001b[0m             \u001b[0mpipe\u001b[0m\u001b[0;34m.\u001b[0m\u001b[0mclose\u001b[0m\u001b[0;34m(\u001b[0m\u001b[0;34m)\u001b[0m\u001b[0;34m\u001b[0m\u001b[0;34m\u001b[0m\u001b[0m\n\u001b[1;32m    158\u001b[0m         \u001b[0;32mif\u001b[0m \u001b[0;32mnot\u001b[0m \u001b[0mos\u001b[0m\u001b[0;34m.\u001b[0m\u001b[0mpath\u001b[0m\u001b[0;34m.\u001b[0m\u001b[0mexists\u001b[0m\u001b[0;34m(\u001b[0m\u001b[0mtmpSol\u001b[0m\u001b[0;34m)\u001b[0m\u001b[0;34m:\u001b[0m\u001b[0;34m\u001b[0m\u001b[0;34m\u001b[0m\u001b[0m\n\u001b[0;32m--> 159\u001b[0;31m             \u001b[0;32mraise\u001b[0m \u001b[0mPulpSolverError\u001b[0m\u001b[0;34m(\u001b[0m\u001b[0;34m\"Pulp: Error while executing \"\u001b[0m\u001b[0;34m+\u001b[0m\u001b[0mself\u001b[0m\u001b[0;34m.\u001b[0m\u001b[0mpath\u001b[0m\u001b[0;34m)\u001b[0m\u001b[0;34m\u001b[0m\u001b[0;34m\u001b[0m\u001b[0m\n\u001b[0m\u001b[1;32m    160\u001b[0m         \u001b[0mstatus\u001b[0m\u001b[0;34m,\u001b[0m \u001b[0mvalues\u001b[0m\u001b[0;34m,\u001b[0m \u001b[0mreducedCosts\u001b[0m\u001b[0;34m,\u001b[0m \u001b[0mshadowPrices\u001b[0m\u001b[0;34m,\u001b[0m \u001b[0mslacks\u001b[0m\u001b[0;34m,\u001b[0m \u001b[0msol_status\u001b[0m \u001b[0;34m=\u001b[0m\u001b[0;31m \u001b[0m\u001b[0;31m\\\u001b[0m\u001b[0;34m\u001b[0m\u001b[0;34m\u001b[0m\u001b[0m\n\u001b[1;32m    161\u001b[0m             \u001b[0mself\u001b[0m\u001b[0;34m.\u001b[0m\u001b[0mreadsol_MPS\u001b[0m\u001b[0;34m(\u001b[0m\u001b[0mtmpSol\u001b[0m\u001b[0;34m,\u001b[0m \u001b[0mlp\u001b[0m\u001b[0;34m,\u001b[0m \u001b[0mvs\u001b[0m\u001b[0;34m,\u001b[0m \u001b[0mvariablesNames\u001b[0m\u001b[0;34m,\u001b[0m \u001b[0mconstraintsNames\u001b[0m\u001b[0;34m)\u001b[0m\u001b[0;34m\u001b[0m\u001b[0;34m\u001b[0m\u001b[0m\n",
      "\u001b[0;31mPulpSolverError\u001b[0m: Pulp: Error while executing /Users/nicholasbergeland/opt/anaconda3/lib/python3.7/site-packages/pulp/apis/../solverdir/cbc/osx/64/cbc"
     ]
    }
   ],
   "source": [
    "status = prob2.solve()\n",
    "\n",
    "print(f\"Question 4\")\n",
    "print(f\"status={LpStatus[status]}\")\n",
    "\n",
    "for variable in prob2.variables():\n",
    "  print(f\"{variable.name}={variable.varValue}\")\n",
    "\n",
    "print(f\"Minimal transaction cost in USD = {round(value(prob2.objective), 2)}\")\n",
    "print(f\"\")"
   ]
  },
  {
   "cell_type": "code",
   "execution_count": 29,
   "metadata": {},
   "outputs": [],
   "source": [
    "#q5\n",
    "prob3 = LpProblem(\"problem3\", LpMinimize)"
   ]
  },
  {
   "cell_type": "code",
   "execution_count": 30,
   "metadata": {},
   "outputs": [],
   "source": [
    "U = LpVariable(\"U\", 250000, None)\n",
    "E = LpVariable(\"E\", 257096, None)\n",
    "P = LpVariable(\"P\", 160328, None)\n",
    "H = LpVariable(\"H\", 1951296, None)\n",
    "J = LpVariable(\"J\", 29655991, None)\n",
    "UE = LpVariable(\"UE\", 0, None)\n",
    "UP = LpVariable(\"UP\", 0, None)\n",
    "UH = LpVariable(\"UH\", 0, None)\n",
    "UJ = LpVariable(\"UJ\", 0, None)\n",
    "EU = LpVariable(\"EU\", 0, None)\n",
    "EP = LpVariable(\"EP\", 0, None)\n",
    "EH = LpVariable(\"EH\", 0, None)\n",
    "EJ = LpVariable(\"EJ\", 0, None)\n",
    "PU = LpVariable(\"PU\", 0, None)\n",
    "PE = LpVariable(\"PE\", 0, None)\n",
    "PH = LpVariable(\"PH\", 0, None)\n",
    "PJ = LpVariable(\"PJ\", 0, None)\n",
    "HU = LpVariable(\"HU\", 0, None)\n",
    "HE = LpVariable(\"HE\", 0, None)\n",
    "HP = LpVariable(\"HP\", 0, None)\n",
    "HJ = LpVariable(\"HJ\", 0, None)\n",
    "JU = LpVariable(\"JU\", 0, None)\n",
    "JE = LpVariable(\"JE\", 0, None)\n",
    "JP = LpVariable(\"JP\", 0, None)\n",
    "JH = LpVariable(\"JH\", 0, None)"
   ]
  },
  {
   "cell_type": "code",
   "execution_count": 31,
   "metadata": {},
   "outputs": [],
   "source": [
    "USD_Start = 2000000\n",
    "EUR_Start = 5000000\n",
    "GBP_Start = 1000000\n",
    "HKD_Start = 3000000\n",
    "JPY_Start = 30000000\n",
    "Total_Start_inUSD = 1*USD_Start + 0.9724*EUR_Start + 1.5593*GBP_Start + 0.12812*HKD_Start + 0.00843*JPY_Start\n",
    "\n",
    "USD_Purchased = 1*U + 0.9724*EU + 1.5593*PU + 0.12812*HU + 0.00843*JU\n",
    "EUR_Purchased = 1.01864*UE + 1*E + 1.5881*PE + 0.1304*HE + 0.00856*JE\n",
    "GBP_Purchased = 0.6414*UP + 0.6295*EP + 1*P + 0.0821*HP + 0.0054*JP # here is where we change the GBP -> USD exchange rate\n",
    "HKD_Purchased = 7.7985*UH + 7.6552*EH + 12.154*PH + 1*H + 0.0658*JH\n",
    "JPY_Purchased = 118.55*UJ + 116.41*EJ + 184.97*PJ + 15.1005*HJ + 1*J\n",
    "\n",
    "USD_Sold = U + UE + UP + UH + UJ\n",
    "EUR_Sold = EU + E + EP + EH + EJ\n",
    "GBP_Sold = PU + PE + P + PH + PJ\n",
    "HKD_Sold = HU + HE + HP + H + HJ\n",
    "JPY_Sold = JU + JE + JP + JH + J\n",
    "\n",
    "prob3 += Total_Start_inUSD - ((USD_Start + USD_Purchased - USD_Sold)*1 + \\\n",
    "                             (EUR_Start + EUR_Purchased - EUR_Sold)*0.9724 + \\\n",
    "                             (GBP_Start + GBP_Purchased - GBP_Sold)*1.5593 + \\\n",
    "                             (HKD_Start + HKD_Purchased - HKD_Sold)*0.12812 + \\\n",
    "                             (JPY_Start + JPY_Purchased - JPY_Sold)*0.00843)"
   ]
  },
  {
   "cell_type": "code",
   "execution_count": 32,
   "metadata": {},
   "outputs": [],
   "source": [
    "#Constraints for EUR and JPY currencies:\n",
    "prob3 += EUR_Start + EUR_Purchased - EUR_Sold >= 8000000\n",
    "prob3 += JPY_Start + JPY_Purchased - JPY_Sold >= 54000000\n",
    "\n",
    "#Constraints for USD, GDP, and HKD currencies (all represented in USD):\n",
    "prob3 += USD_Start + USD_Purchased - USD_Sold >= 250000\n",
    "prob3 += (GBP_Start + GBP_Purchased - GBP_Sold)*1.5593 >= 250000\n",
    "prob3 += (HKD_Start + HKD_Purchased - HKD_Sold)*0.12812 >= 250000"
   ]
  },
  {
   "cell_type": "code",
   "execution_count": 33,
   "metadata": {},
   "outputs": [
    {
     "name": "stdout",
     "output_type": "stream",
     "text": [
      "Question 5\n",
      "status=Unbounded\n",
      "E=257096.0\n",
      "EH=0.0\n",
      "EJ=0.0\n",
      "EP=0.0\n",
      "EU=0.0\n",
      "H=1951296.0\n",
      "HE=0.0\n",
      "HJ=0.0\n",
      "HP=0.0\n",
      "HU=1048704.3\n",
      "J=29655991.0\n",
      "JE=0.0\n",
      "JH=0.0\n",
      "JP=0.0\n",
      "JU=0.0\n",
      "P=160328.0\n",
      "PE=0.0\n",
      "PH=0.0\n",
      "PJ=129750.77\n",
      "PU=680268.89\n",
      "U=250000.0\n",
      "UE=2945103.3\n",
      "UH=0.0\n",
      "UJ=0.0\n",
      "UP=0.0\n",
      "Minimal transaction cost in USD = 27903.65\n",
      "\n"
     ]
    }
   ],
   "source": [
    "status = prob3.solve()\n",
    "\n",
    "print(f\"Question 5\")\n",
    "print(f\"status={LpStatus[status]}\")\n",
    "\n",
    "for variable in prob3.variables():\n",
    "  print(f\"{variable.name}={variable.varValue}\")\n",
    "\n",
    "print(f\"Minimal transaction cost in USD = {round(value(prob3.objective), 2)}\")\n",
    "print(f\"\")"
   ]
  },
  {
   "cell_type": "code",
   "execution_count": null,
   "metadata": {},
   "outputs": [],
   "source": []
  },
  {
   "cell_type": "code",
   "execution_count": null,
   "metadata": {},
   "outputs": [],
   "source": []
  }
 ],
 "metadata": {
  "kernelspec": {
   "display_name": "Python 3",
   "language": "python",
   "name": "python3"
  },
  "language_info": {
   "codemirror_mode": {
    "name": "ipython",
    "version": 3
   },
   "file_extension": ".py",
   "mimetype": "text/x-python",
   "name": "python",
   "nbconvert_exporter": "python",
   "pygments_lexer": "ipython3",
   "version": "3.7.4"
  }
 },
 "nbformat": 4,
 "nbformat_minor": 2
}
